{
  "nbformat": 4,
  "nbformat_minor": 0,
  "metadata": {
    "colab": {
      "name": "Airbnb.ipynb",
      "provenance": [],
      "collapsed_sections": []
    },
    "kernelspec": {
      "name": "python3",
      "display_name": "Python 3"
    }
  },
  "cells": [
    {
      "cell_type": "markdown",
      "metadata": {
        "id": "Z8b5dj7-mTnw",
        "colab_type": "text"
      },
      "source": [
        "# Air BnB build week project"
      ]
    },
    {
      "cell_type": "code",
      "metadata": {
        "id": "L4WCdqetBbWq",
        "colab_type": "code",
        "outputId": "cb7c9ab5-1fb5-4fb4-b5ef-c468cb24b4f6",
        "colab": {
          "base_uri": "https://localhost:8080/",
          "height": 34
        }
      },
      "source": [
        "# mounting google drive to the notebook\n",
        "\n",
        "from google.colab import drive\n",
        "drive.mount('drive')"
      ],
      "execution_count": 0,
      "outputs": [
        {
          "output_type": "stream",
          "text": [
            "Drive already mounted at drive; to attempt to forcibly remount, call drive.mount(\"drive\", force_remount=True).\n"
          ],
          "name": "stdout"
        }
      ]
    },
    {
      "cell_type": "code",
      "metadata": {
        "id": "S-8r-vNCmmSk",
        "colab_type": "code",
        "colab": {}
      },
      "source": [
        ""
      ],
      "execution_count": 0,
      "outputs": []
    },
    {
      "cell_type": "markdown",
      "metadata": {
        "id": "2RRkP9WQmEYX",
        "colab_type": "text"
      },
      "source": [
        "# Berlin"
      ]
    },
    {
      "cell_type": "markdown",
      "metadata": {
        "id": "TtK_la1lRD9s",
        "colab_type": "text"
      },
      "source": [
        "## Data cleaning and exploration"
      ]
    },
    {
      "cell_type": "code",
      "metadata": {
        "id": "rn7tkZR8gXqJ",
        "colab_type": "code",
        "colab": {}
      },
      "source": [
        "# Read in the data\n",
        "\n",
        "import pandas as pd\n",
        "df = pd.read_csv('/content/drive/My Drive/AirBnB/Berlin_listings_summary.csv', engine='python', encoding='utf-8', error_bad_lines=False)"
      ],
      "execution_count": 0,
      "outputs": []
    },
    {
      "cell_type": "code",
      "metadata": {
        "id": "ATERiuPkg9ml",
        "colab_type": "code",
        "outputId": "3ae301d1-a951-415c-8d93-6b679267e05a",
        "colab": {
          "base_uri": "https://localhost:8080/",
          "height": 1000
        }
      },
      "source": [
        "# List of the feature names and shape of the data\n",
        "\n",
        "df.shape\n",
        "list(df)"
      ],
      "execution_count": 0,
      "outputs": [
        {
          "output_type": "execute_result",
          "data": {
            "text/plain": [
              "['id',\n",
              " 'listing_url',\n",
              " 'scrape_id',\n",
              " 'last_scraped',\n",
              " 'name',\n",
              " 'summary',\n",
              " 'space',\n",
              " 'description',\n",
              " 'experiences_offered',\n",
              " 'neighborhood_overview',\n",
              " 'notes',\n",
              " 'transit',\n",
              " 'access',\n",
              " 'interaction',\n",
              " 'house_rules',\n",
              " 'thumbnail_url',\n",
              " 'medium_url',\n",
              " 'picture_url',\n",
              " 'xl_picture_url',\n",
              " 'host_id',\n",
              " 'host_url',\n",
              " 'host_name',\n",
              " 'host_since',\n",
              " 'host_location',\n",
              " 'host_about',\n",
              " 'host_response_time',\n",
              " 'host_response_rate',\n",
              " 'host_acceptance_rate',\n",
              " 'host_is_superhost',\n",
              " 'host_thumbnail_url',\n",
              " 'host_picture_url',\n",
              " 'host_neighbourhood',\n",
              " 'host_listings_count',\n",
              " 'host_total_listings_count',\n",
              " 'host_verifications',\n",
              " 'host_has_profile_pic',\n",
              " 'host_identity_verified',\n",
              " 'street',\n",
              " 'neighbourhood',\n",
              " 'neighbourhood_cleansed',\n",
              " 'neighbourhood_group_cleansed',\n",
              " 'city',\n",
              " 'state',\n",
              " 'zipcode',\n",
              " 'market',\n",
              " 'smart_location',\n",
              " 'country_code',\n",
              " 'country',\n",
              " 'latitude',\n",
              " 'longitude',\n",
              " 'is_location_exact',\n",
              " 'property_type',\n",
              " 'room_type',\n",
              " 'accommodates',\n",
              " 'bathrooms',\n",
              " 'bedrooms',\n",
              " 'beds',\n",
              " 'bed_type',\n",
              " 'amenities',\n",
              " 'square_feet',\n",
              " 'price',\n",
              " 'weekly_price',\n",
              " 'monthly_price',\n",
              " 'security_deposit',\n",
              " 'cleaning_fee',\n",
              " 'guests_included',\n",
              " 'extra_people',\n",
              " 'minimum_nights',\n",
              " 'maximum_nights',\n",
              " 'calendar_updated',\n",
              " 'has_availability',\n",
              " 'availability_30',\n",
              " 'availability_60',\n",
              " 'availability_90',\n",
              " 'availability_365',\n",
              " 'calendar_last_scraped',\n",
              " 'number_of_reviews',\n",
              " 'first_review',\n",
              " 'last_review',\n",
              " 'review_scores_rating',\n",
              " 'review_scores_accuracy',\n",
              " 'review_scores_cleanliness',\n",
              " 'review_scores_checkin',\n",
              " 'review_scores_communication',\n",
              " 'review_scores_location',\n",
              " 'review_scores_value',\n",
              " 'requires_license',\n",
              " 'license',\n",
              " 'jurisdiction_names',\n",
              " 'instant_bookable',\n",
              " 'is_business_travel_ready',\n",
              " 'cancellation_policy',\n",
              " 'require_guest_profile_picture',\n",
              " 'require_guest_phone_verification',\n",
              " 'calculated_host_listings_count',\n",
              " 'reviews_per_month']"
            ]
          },
          "metadata": {
            "tags": []
          },
          "execution_count": 3
        }
      ]
    },
    {
      "cell_type": "code",
      "metadata": {
        "id": "G6ah_P88kM_I",
        "colab_type": "code",
        "colab": {}
      },
      "source": [
        "# List of columns to keep\n",
        "\n",
        "columns = [\n",
        "    'id',\n",
        "    'neighbourhood_group_cleansed',\n",
        "    'property_type',\n",
        "    'room_type',\n",
        "    'accommodates',\n",
        "    'bathrooms',\n",
        "    'bedrooms',\n",
        "    'bed_type',\n",
        "    'amenities',\n",
        "    'price',\n",
        "    'security_deposit',\n",
        "    'cleaning_fee',\n",
        "    'guests_included',\n",
        "    'extra_people',\n",
        "    'minimum_nights',\n",
        "    'instant_bookable',\n",
        "    'is_business_travel_ready',\n",
        "    'cancellation_policy',    \n",
        "]"
      ],
      "execution_count": 0,
      "outputs": []
    },
    {
      "cell_type": "code",
      "metadata": {
        "id": "mreECkg2ocFa",
        "colab_type": "code",
        "outputId": "18304ea5-be76-4a04-b102-d722c88d65af",
        "colab": {
          "base_uri": "https://localhost:8080/",
          "height": 34
        }
      },
      "source": [
        "# Dropping unwanted columns\n",
        "\n",
        "df = df[columns]\n",
        "df.shape"
      ],
      "execution_count": 0,
      "outputs": [
        {
          "output_type": "execute_result",
          "data": {
            "text/plain": [
              "(22552, 18)"
            ]
          },
          "metadata": {
            "tags": []
          },
          "execution_count": 5
        }
      ]
    },
    {
      "cell_type": "code",
      "metadata": {
        "id": "dn67MlUZq3mp",
        "colab_type": "code",
        "outputId": "49481b20-a331-48c3-8714-95839294f14e",
        "colab": {
          "base_uri": "https://localhost:8080/",
          "height": 340
        }
      },
      "source": [
        "# Checking for Null values\n",
        "df.isna().sum()"
      ],
      "execution_count": 0,
      "outputs": [
        {
          "output_type": "execute_result",
          "data": {
            "text/plain": [
              "id                                 0\n",
              "neighbourhood_group_cleansed       0\n",
              "property_type                      0\n",
              "room_type                          0\n",
              "accommodates                       0\n",
              "bathrooms                         32\n",
              "bedrooms                          18\n",
              "bed_type                           0\n",
              "amenities                          0\n",
              "price                              0\n",
              "security_deposit                9361\n",
              "cleaning_fee                    7146\n",
              "guests_included                    0\n",
              "extra_people                       0\n",
              "minimum_nights                     0\n",
              "instant_bookable                   0\n",
              "is_business_travel_ready           0\n",
              "cancellation_policy                0\n",
              "dtype: int64"
            ]
          },
          "metadata": {
            "tags": []
          },
          "execution_count": 6
        }
      ]
    },
    {
      "cell_type": "code",
      "metadata": {
        "id": "naCyjDDCq3kq",
        "colab_type": "code",
        "outputId": "0dd55f64-74fb-48aa-a325-e4f56cc33dd9",
        "colab": {
          "base_uri": "https://localhost:8080/",
          "height": 340
        }
      },
      "source": [
        "# NaN values in these features are most likely to be $0.00\n",
        "\n",
        "df['security_deposit'] = df['security_deposit'].fillna('$0.00')\n",
        "df['cleaning_fee'] = df['cleaning_fee'].fillna('$0.00')\n",
        "df.isna().sum()"
      ],
      "execution_count": 0,
      "outputs": [
        {
          "output_type": "execute_result",
          "data": {
            "text/plain": [
              "id                               0\n",
              "neighbourhood_group_cleansed     0\n",
              "property_type                    0\n",
              "room_type                        0\n",
              "accommodates                     0\n",
              "bathrooms                       32\n",
              "bedrooms                        18\n",
              "bed_type                         0\n",
              "amenities                        0\n",
              "price                            0\n",
              "security_deposit                 0\n",
              "cleaning_fee                     0\n",
              "guests_included                  0\n",
              "extra_people                     0\n",
              "minimum_nights                   0\n",
              "instant_bookable                 0\n",
              "is_business_travel_ready         0\n",
              "cancellation_policy              0\n",
              "dtype: int64"
            ]
          },
          "metadata": {
            "tags": []
          },
          "execution_count": 7
        }
      ]
    },
    {
      "cell_type": "code",
      "metadata": {
        "id": "8Qi32Zgbq3iD",
        "colab_type": "code",
        "outputId": "1ddc9655-40cf-40e5-bd36-7f3d73b22632",
        "colab": {
          "base_uri": "https://localhost:8080/",
          "height": 340
        }
      },
      "source": [
        "# Dropping the rows with the NaN values\n",
        "df = df.dropna()\n",
        "df.isna().sum()"
      ],
      "execution_count": 0,
      "outputs": [
        {
          "output_type": "execute_result",
          "data": {
            "text/plain": [
              "id                              0\n",
              "neighbourhood_group_cleansed    0\n",
              "property_type                   0\n",
              "room_type                       0\n",
              "accommodates                    0\n",
              "bathrooms                       0\n",
              "bedrooms                        0\n",
              "bed_type                        0\n",
              "amenities                       0\n",
              "price                           0\n",
              "security_deposit                0\n",
              "cleaning_fee                    0\n",
              "guests_included                 0\n",
              "extra_people                    0\n",
              "minimum_nights                  0\n",
              "instant_bookable                0\n",
              "is_business_travel_ready        0\n",
              "cancellation_policy             0\n",
              "dtype: int64"
            ]
          },
          "metadata": {
            "tags": []
          },
          "execution_count": 8
        }
      ]
    },
    {
      "cell_type": "code",
      "metadata": {
        "id": "RaP20OTjq3fb",
        "colab_type": "code",
        "outputId": "bd357899-d3f2-4363-8c64-186402a5d46d",
        "colab": {
          "base_uri": "https://localhost:8080/",
          "height": 340
        }
      },
      "source": [
        "df.dtypes"
      ],
      "execution_count": 0,
      "outputs": [
        {
          "output_type": "execute_result",
          "data": {
            "text/plain": [
              "id                                int64\n",
              "neighbourhood_group_cleansed     object\n",
              "property_type                    object\n",
              "room_type                        object\n",
              "accommodates                      int64\n",
              "bathrooms                       float64\n",
              "bedrooms                        float64\n",
              "bed_type                         object\n",
              "amenities                        object\n",
              "price                            object\n",
              "security_deposit                 object\n",
              "cleaning_fee                     object\n",
              "guests_included                   int64\n",
              "extra_people                     object\n",
              "minimum_nights                    int64\n",
              "instant_bookable                 object\n",
              "is_business_travel_ready         object\n",
              "cancellation_policy              object\n",
              "dtype: object"
            ]
          },
          "metadata": {
            "tags": []
          },
          "execution_count": 9
        }
      ]
    },
    {
      "cell_type": "code",
      "metadata": {
        "id": "VuhrohAudRDh",
        "colab_type": "code",
        "outputId": "02a8f16e-f6a7-4c01-c687-efe8b1d54a0e",
        "colab": {
          "base_uri": "https://localhost:8080/",
          "height": 1000
        }
      },
      "source": [
        "df['security_deposit']"
      ],
      "execution_count": 0,
      "outputs": [
        {
          "output_type": "execute_result",
          "data": {
            "text/plain": [
              "0          $200.00\n",
              "1            $0.00\n",
              "2          $200.00\n",
              "3          $250.00\n",
              "4            $0.00\n",
              "5          $400.00\n",
              "6          $500.00\n",
              "7            $0.00\n",
              "8          $500.00\n",
              "9            $0.00\n",
              "11         $500.00\n",
              "12         $500.00\n",
              "13         $300.00\n",
              "14         $150.00\n",
              "15         $500.00\n",
              "16         $200.00\n",
              "17         $200.00\n",
              "18         $250.00\n",
              "19       $1,660.00\n",
              "20         $200.00\n",
              "22       $1,500.00\n",
              "23           $0.00\n",
              "24         $100.00\n",
              "25           $0.00\n",
              "26       $1,000.00\n",
              "27         $500.00\n",
              "28           $0.00\n",
              "29         $100.00\n",
              "30           $0.00\n",
              "31         $500.00\n",
              "           ...    \n",
              "22522        $0.00\n",
              "22523      $150.00\n",
              "22524      $200.00\n",
              "22525        $0.00\n",
              "22526        $0.00\n",
              "22527        $0.00\n",
              "22528        $0.00\n",
              "22529        $0.00\n",
              "22530        $0.00\n",
              "22531        $0.00\n",
              "22532    $2,000.00\n",
              "22533        $0.00\n",
              "22534        $0.00\n",
              "22535        $0.00\n",
              "22536        $0.00\n",
              "22537        $0.00\n",
              "22538        $0.00\n",
              "22539        $0.00\n",
              "22540        $0.00\n",
              "22541        $0.00\n",
              "22542        $0.00\n",
              "22543        $0.00\n",
              "22544      $100.00\n",
              "22545        $0.00\n",
              "22546    $1,000.00\n",
              "22547        $0.00\n",
              "22548        $0.00\n",
              "22549        $0.00\n",
              "22550        $0.00\n",
              "22551        $0.00\n",
              "Name: security_deposit, Length: 22502, dtype: object"
            ]
          },
          "metadata": {
            "tags": []
          },
          "execution_count": 10
        }
      ]
    },
    {
      "cell_type": "code",
      "metadata": {
        "id": "E0MdqQx5q3V6",
        "colab_type": "code",
        "colab": {}
      },
      "source": [
        "# Changing features from objects to floats\n",
        "\n",
        "df['price'] = df['price'].str.replace('$', '').str.replace(',', '').astype(float)\n",
        "df['security_deposit'] = df['security_deposit'].str.replace('$', '').str.replace(',', '').astype(float)\n",
        "df['cleaning_fee'] = df['cleaning_fee'].str.replace('$', '').str.replace(',', '').astype(float)\n",
        "df['extra_people'] = df['extra_people'].str.replace('$', '').str.replace(',', '').astype(float)"
      ],
      "execution_count": 0,
      "outputs": []
    },
    {
      "cell_type": "code",
      "metadata": {
        "id": "8NomXgTGu2wu",
        "colab_type": "code",
        "outputId": "fe9f4ba7-e56a-4d36-d4a2-69d7a31729a4",
        "colab": {
          "base_uri": "https://localhost:8080/",
          "height": 340
        }
      },
      "source": [
        "df.dtypes"
      ],
      "execution_count": 0,
      "outputs": [
        {
          "output_type": "execute_result",
          "data": {
            "text/plain": [
              "id                                int64\n",
              "neighbourhood_group_cleansed     object\n",
              "property_type                    object\n",
              "room_type                        object\n",
              "accommodates                      int64\n",
              "bathrooms                       float64\n",
              "bedrooms                        float64\n",
              "bed_type                         object\n",
              "amenities                        object\n",
              "price                           float64\n",
              "security_deposit                float64\n",
              "cleaning_fee                    float64\n",
              "guests_included                   int64\n",
              "extra_people                    float64\n",
              "minimum_nights                    int64\n",
              "instant_bookable                 object\n",
              "is_business_travel_ready         object\n",
              "cancellation_policy              object\n",
              "dtype: object"
            ]
          },
          "metadata": {
            "tags": []
          },
          "execution_count": 12
        }
      ]
    },
    {
      "cell_type": "code",
      "metadata": {
        "id": "ICnlWNy4biRT",
        "colab_type": "code",
        "outputId": "11521a4c-911e-43de-94f7-30e8f67b0ef4",
        "colab": {
          "base_uri": "https://localhost:8080/",
          "height": 309
        }
      },
      "source": [
        "df.head()"
      ],
      "execution_count": 0,
      "outputs": [
        {
          "output_type": "execute_result",
          "data": {
            "text/html": [
              "<div>\n",
              "<style scoped>\n",
              "    .dataframe tbody tr th:only-of-type {\n",
              "        vertical-align: middle;\n",
              "    }\n",
              "\n",
              "    .dataframe tbody tr th {\n",
              "        vertical-align: top;\n",
              "    }\n",
              "\n",
              "    .dataframe thead th {\n",
              "        text-align: right;\n",
              "    }\n",
              "</style>\n",
              "<table border=\"1\" class=\"dataframe\">\n",
              "  <thead>\n",
              "    <tr style=\"text-align: right;\">\n",
              "      <th></th>\n",
              "      <th>id</th>\n",
              "      <th>neighbourhood_group_cleansed</th>\n",
              "      <th>property_type</th>\n",
              "      <th>room_type</th>\n",
              "      <th>accommodates</th>\n",
              "      <th>bathrooms</th>\n",
              "      <th>bedrooms</th>\n",
              "      <th>bed_type</th>\n",
              "      <th>amenities</th>\n",
              "      <th>price</th>\n",
              "      <th>security_deposit</th>\n",
              "      <th>cleaning_fee</th>\n",
              "      <th>guests_included</th>\n",
              "      <th>extra_people</th>\n",
              "      <th>minimum_nights</th>\n",
              "      <th>instant_bookable</th>\n",
              "      <th>is_business_travel_ready</th>\n",
              "      <th>cancellation_policy</th>\n",
              "    </tr>\n",
              "  </thead>\n",
              "  <tbody>\n",
              "    <tr>\n",
              "      <th>0</th>\n",
              "      <td>2015</td>\n",
              "      <td>Mitte</td>\n",
              "      <td>Guesthouse</td>\n",
              "      <td>Entire home/apt</td>\n",
              "      <td>3</td>\n",
              "      <td>1.0</td>\n",
              "      <td>1.0</td>\n",
              "      <td>Real Bed</td>\n",
              "      <td>{TV,\"Cable TV\",Wifi,Kitchen,Gym,Heating,\"Famil...</td>\n",
              "      <td>60.0</td>\n",
              "      <td>200.0</td>\n",
              "      <td>30.0</td>\n",
              "      <td>1</td>\n",
              "      <td>28.0</td>\n",
              "      <td>4</td>\n",
              "      <td>f</td>\n",
              "      <td>f</td>\n",
              "      <td>strict_14_with_grace_period</td>\n",
              "    </tr>\n",
              "    <tr>\n",
              "      <th>1</th>\n",
              "      <td>2695</td>\n",
              "      <td>Pankow</td>\n",
              "      <td>Apartment</td>\n",
              "      <td>Private room</td>\n",
              "      <td>2</td>\n",
              "      <td>1.0</td>\n",
              "      <td>1.0</td>\n",
              "      <td>Real Bed</td>\n",
              "      <td>{Wifi,Kitchen,Elevator,Heating,Washer,Essentia...</td>\n",
              "      <td>17.0</td>\n",
              "      <td>0.0</td>\n",
              "      <td>0.0</td>\n",
              "      <td>1</td>\n",
              "      <td>0.0</td>\n",
              "      <td>2</td>\n",
              "      <td>f</td>\n",
              "      <td>f</td>\n",
              "      <td>flexible</td>\n",
              "    </tr>\n",
              "    <tr>\n",
              "      <th>2</th>\n",
              "      <td>3176</td>\n",
              "      <td>Pankow</td>\n",
              "      <td>Apartment</td>\n",
              "      <td>Entire home/apt</td>\n",
              "      <td>4</td>\n",
              "      <td>1.0</td>\n",
              "      <td>1.0</td>\n",
              "      <td>Real Bed</td>\n",
              "      <td>{Internet,Wifi,Kitchen,\"Buzzer/wireless interc...</td>\n",
              "      <td>90.0</td>\n",
              "      <td>200.0</td>\n",
              "      <td>50.0</td>\n",
              "      <td>2</td>\n",
              "      <td>20.0</td>\n",
              "      <td>62</td>\n",
              "      <td>t</td>\n",
              "      <td>f</td>\n",
              "      <td>strict_14_with_grace_period</td>\n",
              "    </tr>\n",
              "    <tr>\n",
              "      <th>3</th>\n",
              "      <td>3309</td>\n",
              "      <td>Tempelhof - Schöneberg</td>\n",
              "      <td>Apartment</td>\n",
              "      <td>Private room</td>\n",
              "      <td>2</td>\n",
              "      <td>1.0</td>\n",
              "      <td>1.0</td>\n",
              "      <td>Pull-out Sofa</td>\n",
              "      <td>{Internet,Wifi,\"Pets allowed\",\"Pets live on th...</td>\n",
              "      <td>26.0</td>\n",
              "      <td>250.0</td>\n",
              "      <td>30.0</td>\n",
              "      <td>1</td>\n",
              "      <td>18.0</td>\n",
              "      <td>5</td>\n",
              "      <td>f</td>\n",
              "      <td>f</td>\n",
              "      <td>strict_14_with_grace_period</td>\n",
              "    </tr>\n",
              "    <tr>\n",
              "      <th>4</th>\n",
              "      <td>7071</td>\n",
              "      <td>Pankow</td>\n",
              "      <td>Apartment</td>\n",
              "      <td>Private room</td>\n",
              "      <td>2</td>\n",
              "      <td>1.0</td>\n",
              "      <td>1.0</td>\n",
              "      <td>Real Bed</td>\n",
              "      <td>{Wifi,Heating,\"Family/kid friendly\",Essentials...</td>\n",
              "      <td>42.0</td>\n",
              "      <td>0.0</td>\n",
              "      <td>0.0</td>\n",
              "      <td>1</td>\n",
              "      <td>24.0</td>\n",
              "      <td>2</td>\n",
              "      <td>f</td>\n",
              "      <td>f</td>\n",
              "      <td>moderate</td>\n",
              "    </tr>\n",
              "  </tbody>\n",
              "</table>\n",
              "</div>"
            ],
            "text/plain": [
              "     id  ...          cancellation_policy\n",
              "0  2015  ...  strict_14_with_grace_period\n",
              "1  2695  ...                     flexible\n",
              "2  3176  ...  strict_14_with_grace_period\n",
              "3  3309  ...  strict_14_with_grace_period\n",
              "4  7071  ...                     moderate\n",
              "\n",
              "[5 rows x 18 columns]"
            ]
          },
          "metadata": {
            "tags": []
          },
          "execution_count": 13
        }
      ]
    },
    {
      "cell_type": "code",
      "metadata": {
        "id": "8Z6fRMiRu4aZ",
        "colab_type": "code",
        "outputId": "019e8750-89c5-49fc-b9df-47ab811091e1",
        "colab": {
          "base_uri": "https://localhost:8080/",
          "height": 261
        }
      },
      "source": [
        "#  Making true/false values from strings\n",
        "\n",
        "df = df.replace({'instant_bookable': {'t': True, 'f': False}, 'is_business_travel_ready': {'t':True, 'f':False}})\n",
        "df.head(4)"
      ],
      "execution_count": 0,
      "outputs": [
        {
          "output_type": "execute_result",
          "data": {
            "text/html": [
              "<div>\n",
              "<style scoped>\n",
              "    .dataframe tbody tr th:only-of-type {\n",
              "        vertical-align: middle;\n",
              "    }\n",
              "\n",
              "    .dataframe tbody tr th {\n",
              "        vertical-align: top;\n",
              "    }\n",
              "\n",
              "    .dataframe thead th {\n",
              "        text-align: right;\n",
              "    }\n",
              "</style>\n",
              "<table border=\"1\" class=\"dataframe\">\n",
              "  <thead>\n",
              "    <tr style=\"text-align: right;\">\n",
              "      <th></th>\n",
              "      <th>id</th>\n",
              "      <th>neighbourhood_group_cleansed</th>\n",
              "      <th>property_type</th>\n",
              "      <th>room_type</th>\n",
              "      <th>accommodates</th>\n",
              "      <th>bathrooms</th>\n",
              "      <th>bedrooms</th>\n",
              "      <th>bed_type</th>\n",
              "      <th>amenities</th>\n",
              "      <th>price</th>\n",
              "      <th>security_deposit</th>\n",
              "      <th>cleaning_fee</th>\n",
              "      <th>guests_included</th>\n",
              "      <th>extra_people</th>\n",
              "      <th>minimum_nights</th>\n",
              "      <th>instant_bookable</th>\n",
              "      <th>is_business_travel_ready</th>\n",
              "      <th>cancellation_policy</th>\n",
              "    </tr>\n",
              "  </thead>\n",
              "  <tbody>\n",
              "    <tr>\n",
              "      <th>0</th>\n",
              "      <td>2015</td>\n",
              "      <td>Mitte</td>\n",
              "      <td>Guesthouse</td>\n",
              "      <td>Entire home/apt</td>\n",
              "      <td>3</td>\n",
              "      <td>1.0</td>\n",
              "      <td>1.0</td>\n",
              "      <td>Real Bed</td>\n",
              "      <td>{TV,\"Cable TV\",Wifi,Kitchen,Gym,Heating,\"Famil...</td>\n",
              "      <td>60.0</td>\n",
              "      <td>200.0</td>\n",
              "      <td>30.0</td>\n",
              "      <td>1</td>\n",
              "      <td>28.0</td>\n",
              "      <td>4</td>\n",
              "      <td>False</td>\n",
              "      <td>False</td>\n",
              "      <td>strict_14_with_grace_period</td>\n",
              "    </tr>\n",
              "    <tr>\n",
              "      <th>1</th>\n",
              "      <td>2695</td>\n",
              "      <td>Pankow</td>\n",
              "      <td>Apartment</td>\n",
              "      <td>Private room</td>\n",
              "      <td>2</td>\n",
              "      <td>1.0</td>\n",
              "      <td>1.0</td>\n",
              "      <td>Real Bed</td>\n",
              "      <td>{Wifi,Kitchen,Elevator,Heating,Washer,Essentia...</td>\n",
              "      <td>17.0</td>\n",
              "      <td>0.0</td>\n",
              "      <td>0.0</td>\n",
              "      <td>1</td>\n",
              "      <td>0.0</td>\n",
              "      <td>2</td>\n",
              "      <td>False</td>\n",
              "      <td>False</td>\n",
              "      <td>flexible</td>\n",
              "    </tr>\n",
              "    <tr>\n",
              "      <th>2</th>\n",
              "      <td>3176</td>\n",
              "      <td>Pankow</td>\n",
              "      <td>Apartment</td>\n",
              "      <td>Entire home/apt</td>\n",
              "      <td>4</td>\n",
              "      <td>1.0</td>\n",
              "      <td>1.0</td>\n",
              "      <td>Real Bed</td>\n",
              "      <td>{Internet,Wifi,Kitchen,\"Buzzer/wireless interc...</td>\n",
              "      <td>90.0</td>\n",
              "      <td>200.0</td>\n",
              "      <td>50.0</td>\n",
              "      <td>2</td>\n",
              "      <td>20.0</td>\n",
              "      <td>62</td>\n",
              "      <td>True</td>\n",
              "      <td>False</td>\n",
              "      <td>strict_14_with_grace_period</td>\n",
              "    </tr>\n",
              "    <tr>\n",
              "      <th>3</th>\n",
              "      <td>3309</td>\n",
              "      <td>Tempelhof - Schöneberg</td>\n",
              "      <td>Apartment</td>\n",
              "      <td>Private room</td>\n",
              "      <td>2</td>\n",
              "      <td>1.0</td>\n",
              "      <td>1.0</td>\n",
              "      <td>Pull-out Sofa</td>\n",
              "      <td>{Internet,Wifi,\"Pets allowed\",\"Pets live on th...</td>\n",
              "      <td>26.0</td>\n",
              "      <td>250.0</td>\n",
              "      <td>30.0</td>\n",
              "      <td>1</td>\n",
              "      <td>18.0</td>\n",
              "      <td>5</td>\n",
              "      <td>False</td>\n",
              "      <td>False</td>\n",
              "      <td>strict_14_with_grace_period</td>\n",
              "    </tr>\n",
              "  </tbody>\n",
              "</table>\n",
              "</div>"
            ],
            "text/plain": [
              "     id  ...          cancellation_policy\n",
              "0  2015  ...  strict_14_with_grace_period\n",
              "1  2695  ...                     flexible\n",
              "2  3176  ...  strict_14_with_grace_period\n",
              "3  3309  ...  strict_14_with_grace_period\n",
              "\n",
              "[4 rows x 18 columns]"
            ]
          },
          "metadata": {
            "tags": []
          },
          "execution_count": 14
        }
      ]
    },
    {
      "cell_type": "code",
      "metadata": {
        "id": "j0geKzQuwKz6",
        "colab_type": "code",
        "outputId": "d449aeaf-cbb1-4998-ef9a-c2efd59efbd9",
        "colab": {
          "base_uri": "https://localhost:8080/",
          "height": 340
        }
      },
      "source": [
        "df.dtypes"
      ],
      "execution_count": 0,
      "outputs": [
        {
          "output_type": "execute_result",
          "data": {
            "text/plain": [
              "id                                int64\n",
              "neighbourhood_group_cleansed     object\n",
              "property_type                    object\n",
              "room_type                        object\n",
              "accommodates                      int64\n",
              "bathrooms                       float64\n",
              "bedrooms                        float64\n",
              "bed_type                         object\n",
              "amenities                        object\n",
              "price                           float64\n",
              "security_deposit                float64\n",
              "cleaning_fee                    float64\n",
              "guests_included                   int64\n",
              "extra_people                    float64\n",
              "minimum_nights                    int64\n",
              "instant_bookable                   bool\n",
              "is_business_travel_ready           bool\n",
              "cancellation_policy              object\n",
              "dtype: object"
            ]
          },
          "metadata": {
            "tags": []
          },
          "execution_count": 15
        }
      ]
    },
    {
      "cell_type": "code",
      "metadata": {
        "id": "t0PsyaU6BZbs",
        "colab_type": "code",
        "outputId": "568ff501-5b9c-4235-cd4a-baef7fa07f8e",
        "colab": {
          "base_uri": "https://localhost:8080/",
          "height": 309
        }
      },
      "source": [
        "df.head()"
      ],
      "execution_count": 0,
      "outputs": [
        {
          "output_type": "execute_result",
          "data": {
            "text/html": [
              "<div>\n",
              "<style scoped>\n",
              "    .dataframe tbody tr th:only-of-type {\n",
              "        vertical-align: middle;\n",
              "    }\n",
              "\n",
              "    .dataframe tbody tr th {\n",
              "        vertical-align: top;\n",
              "    }\n",
              "\n",
              "    .dataframe thead th {\n",
              "        text-align: right;\n",
              "    }\n",
              "</style>\n",
              "<table border=\"1\" class=\"dataframe\">\n",
              "  <thead>\n",
              "    <tr style=\"text-align: right;\">\n",
              "      <th></th>\n",
              "      <th>id</th>\n",
              "      <th>neighbourhood_group_cleansed</th>\n",
              "      <th>property_type</th>\n",
              "      <th>room_type</th>\n",
              "      <th>accommodates</th>\n",
              "      <th>bathrooms</th>\n",
              "      <th>bedrooms</th>\n",
              "      <th>bed_type</th>\n",
              "      <th>amenities</th>\n",
              "      <th>price</th>\n",
              "      <th>security_deposit</th>\n",
              "      <th>cleaning_fee</th>\n",
              "      <th>guests_included</th>\n",
              "      <th>extra_people</th>\n",
              "      <th>minimum_nights</th>\n",
              "      <th>instant_bookable</th>\n",
              "      <th>is_business_travel_ready</th>\n",
              "      <th>cancellation_policy</th>\n",
              "    </tr>\n",
              "  </thead>\n",
              "  <tbody>\n",
              "    <tr>\n",
              "      <th>0</th>\n",
              "      <td>2015</td>\n",
              "      <td>Mitte</td>\n",
              "      <td>Guesthouse</td>\n",
              "      <td>Entire home/apt</td>\n",
              "      <td>3</td>\n",
              "      <td>1.0</td>\n",
              "      <td>1.0</td>\n",
              "      <td>Real Bed</td>\n",
              "      <td>{TV,\"Cable TV\",Wifi,Kitchen,Gym,Heating,\"Famil...</td>\n",
              "      <td>60.0</td>\n",
              "      <td>200.0</td>\n",
              "      <td>30.0</td>\n",
              "      <td>1</td>\n",
              "      <td>28.0</td>\n",
              "      <td>4</td>\n",
              "      <td>False</td>\n",
              "      <td>False</td>\n",
              "      <td>strict_14_with_grace_period</td>\n",
              "    </tr>\n",
              "    <tr>\n",
              "      <th>1</th>\n",
              "      <td>2695</td>\n",
              "      <td>Pankow</td>\n",
              "      <td>Apartment</td>\n",
              "      <td>Private room</td>\n",
              "      <td>2</td>\n",
              "      <td>1.0</td>\n",
              "      <td>1.0</td>\n",
              "      <td>Real Bed</td>\n",
              "      <td>{Wifi,Kitchen,Elevator,Heating,Washer,Essentia...</td>\n",
              "      <td>17.0</td>\n",
              "      <td>0.0</td>\n",
              "      <td>0.0</td>\n",
              "      <td>1</td>\n",
              "      <td>0.0</td>\n",
              "      <td>2</td>\n",
              "      <td>False</td>\n",
              "      <td>False</td>\n",
              "      <td>flexible</td>\n",
              "    </tr>\n",
              "    <tr>\n",
              "      <th>2</th>\n",
              "      <td>3176</td>\n",
              "      <td>Pankow</td>\n",
              "      <td>Apartment</td>\n",
              "      <td>Entire home/apt</td>\n",
              "      <td>4</td>\n",
              "      <td>1.0</td>\n",
              "      <td>1.0</td>\n",
              "      <td>Real Bed</td>\n",
              "      <td>{Internet,Wifi,Kitchen,\"Buzzer/wireless interc...</td>\n",
              "      <td>90.0</td>\n",
              "      <td>200.0</td>\n",
              "      <td>50.0</td>\n",
              "      <td>2</td>\n",
              "      <td>20.0</td>\n",
              "      <td>62</td>\n",
              "      <td>True</td>\n",
              "      <td>False</td>\n",
              "      <td>strict_14_with_grace_period</td>\n",
              "    </tr>\n",
              "    <tr>\n",
              "      <th>3</th>\n",
              "      <td>3309</td>\n",
              "      <td>Tempelhof - Schöneberg</td>\n",
              "      <td>Apartment</td>\n",
              "      <td>Private room</td>\n",
              "      <td>2</td>\n",
              "      <td>1.0</td>\n",
              "      <td>1.0</td>\n",
              "      <td>Pull-out Sofa</td>\n",
              "      <td>{Internet,Wifi,\"Pets allowed\",\"Pets live on th...</td>\n",
              "      <td>26.0</td>\n",
              "      <td>250.0</td>\n",
              "      <td>30.0</td>\n",
              "      <td>1</td>\n",
              "      <td>18.0</td>\n",
              "      <td>5</td>\n",
              "      <td>False</td>\n",
              "      <td>False</td>\n",
              "      <td>strict_14_with_grace_period</td>\n",
              "    </tr>\n",
              "    <tr>\n",
              "      <th>4</th>\n",
              "      <td>7071</td>\n",
              "      <td>Pankow</td>\n",
              "      <td>Apartment</td>\n",
              "      <td>Private room</td>\n",
              "      <td>2</td>\n",
              "      <td>1.0</td>\n",
              "      <td>1.0</td>\n",
              "      <td>Real Bed</td>\n",
              "      <td>{Wifi,Heating,\"Family/kid friendly\",Essentials...</td>\n",
              "      <td>42.0</td>\n",
              "      <td>0.0</td>\n",
              "      <td>0.0</td>\n",
              "      <td>1</td>\n",
              "      <td>24.0</td>\n",
              "      <td>2</td>\n",
              "      <td>False</td>\n",
              "      <td>False</td>\n",
              "      <td>moderate</td>\n",
              "    </tr>\n",
              "  </tbody>\n",
              "</table>\n",
              "</div>"
            ],
            "text/plain": [
              "     id  ...          cancellation_policy\n",
              "0  2015  ...  strict_14_with_grace_period\n",
              "1  2695  ...                     flexible\n",
              "2  3176  ...  strict_14_with_grace_period\n",
              "3  3309  ...  strict_14_with_grace_period\n",
              "4  7071  ...                     moderate\n",
              "\n",
              "[5 rows x 18 columns]"
            ]
          },
          "metadata": {
            "tags": []
          },
          "execution_count": 16
        }
      ]
    },
    {
      "cell_type": "code",
      "metadata": {
        "id": "EF3UqKznV7G-",
        "colab_type": "code",
        "colab": {}
      },
      "source": [
        "df['amenities'] = df['amenities'].apply(lambda x: x.strip('{'))\n",
        "df['amenities'] = df['amenities'].apply(lambda x: x.strip('}'))\n",
        "df['amenities'] = df['amenities'].apply(lambda x: x.upper())\n"
      ],
      "execution_count": 0,
      "outputs": []
    },
    {
      "cell_type": "code",
      "metadata": {
        "id": "M_XA1904WibH",
        "colab_type": "code",
        "colab": {}
      },
      "source": [
        "df['tv'] = df['amenities'].str.contains('TV') | df['amenities'].str.contains('CABLE')\n",
        "df['internet'] = df['amenities'].str.contains('WIFI') | df['amenities'].str.contains('INTERNET')\n",
        "df['pets'] = df['amenities'].str.contains('CAT') | df['amenities'].str.contains('DOG') | df['amenities'].str.contains('PET')"
      ],
      "execution_count": 0,
      "outputs": []
    },
    {
      "cell_type": "code",
      "metadata": {
        "id": "Opepneo2XoVr",
        "colab_type": "code",
        "colab": {}
      },
      "source": [
        "df = df.drop('amenities', axis =1)"
      ],
      "execution_count": 0,
      "outputs": []
    },
    {
      "cell_type": "code",
      "metadata": {
        "id": "h6GQ7mMeYHui",
        "colab_type": "code",
        "outputId": "e76c36f9-b914-4c71-dd00-acffd7df3e92",
        "colab": {
          "base_uri": "https://localhost:8080/",
          "height": 309
        }
      },
      "source": [
        "df.head()"
      ],
      "execution_count": 0,
      "outputs": [
        {
          "output_type": "execute_result",
          "data": {
            "text/html": [
              "<div>\n",
              "<style scoped>\n",
              "    .dataframe tbody tr th:only-of-type {\n",
              "        vertical-align: middle;\n",
              "    }\n",
              "\n",
              "    .dataframe tbody tr th {\n",
              "        vertical-align: top;\n",
              "    }\n",
              "\n",
              "    .dataframe thead th {\n",
              "        text-align: right;\n",
              "    }\n",
              "</style>\n",
              "<table border=\"1\" class=\"dataframe\">\n",
              "  <thead>\n",
              "    <tr style=\"text-align: right;\">\n",
              "      <th></th>\n",
              "      <th>id</th>\n",
              "      <th>neighbourhood_group_cleansed</th>\n",
              "      <th>property_type</th>\n",
              "      <th>room_type</th>\n",
              "      <th>accommodates</th>\n",
              "      <th>bathrooms</th>\n",
              "      <th>bedrooms</th>\n",
              "      <th>bed_type</th>\n",
              "      <th>price</th>\n",
              "      <th>security_deposit</th>\n",
              "      <th>cleaning_fee</th>\n",
              "      <th>guests_included</th>\n",
              "      <th>extra_people</th>\n",
              "      <th>minimum_nights</th>\n",
              "      <th>instant_bookable</th>\n",
              "      <th>is_business_travel_ready</th>\n",
              "      <th>cancellation_policy</th>\n",
              "      <th>tv</th>\n",
              "      <th>internet</th>\n",
              "      <th>pets</th>\n",
              "    </tr>\n",
              "  </thead>\n",
              "  <tbody>\n",
              "    <tr>\n",
              "      <th>0</th>\n",
              "      <td>2015</td>\n",
              "      <td>Mitte</td>\n",
              "      <td>Guesthouse</td>\n",
              "      <td>Entire home/apt</td>\n",
              "      <td>3</td>\n",
              "      <td>1.0</td>\n",
              "      <td>1.0</td>\n",
              "      <td>Real Bed</td>\n",
              "      <td>60.0</td>\n",
              "      <td>200.0</td>\n",
              "      <td>30.0</td>\n",
              "      <td>1</td>\n",
              "      <td>28.0</td>\n",
              "      <td>4</td>\n",
              "      <td>False</td>\n",
              "      <td>False</td>\n",
              "      <td>strict_14_with_grace_period</td>\n",
              "      <td>True</td>\n",
              "      <td>True</td>\n",
              "      <td>False</td>\n",
              "    </tr>\n",
              "    <tr>\n",
              "      <th>1</th>\n",
              "      <td>2695</td>\n",
              "      <td>Pankow</td>\n",
              "      <td>Apartment</td>\n",
              "      <td>Private room</td>\n",
              "      <td>2</td>\n",
              "      <td>1.0</td>\n",
              "      <td>1.0</td>\n",
              "      <td>Real Bed</td>\n",
              "      <td>17.0</td>\n",
              "      <td>0.0</td>\n",
              "      <td>0.0</td>\n",
              "      <td>1</td>\n",
              "      <td>0.0</td>\n",
              "      <td>2</td>\n",
              "      <td>False</td>\n",
              "      <td>False</td>\n",
              "      <td>flexible</td>\n",
              "      <td>False</td>\n",
              "      <td>True</td>\n",
              "      <td>False</td>\n",
              "    </tr>\n",
              "    <tr>\n",
              "      <th>2</th>\n",
              "      <td>3176</td>\n",
              "      <td>Pankow</td>\n",
              "      <td>Apartment</td>\n",
              "      <td>Entire home/apt</td>\n",
              "      <td>4</td>\n",
              "      <td>1.0</td>\n",
              "      <td>1.0</td>\n",
              "      <td>Real Bed</td>\n",
              "      <td>90.0</td>\n",
              "      <td>200.0</td>\n",
              "      <td>50.0</td>\n",
              "      <td>2</td>\n",
              "      <td>20.0</td>\n",
              "      <td>62</td>\n",
              "      <td>True</td>\n",
              "      <td>False</td>\n",
              "      <td>strict_14_with_grace_period</td>\n",
              "      <td>False</td>\n",
              "      <td>True</td>\n",
              "      <td>False</td>\n",
              "    </tr>\n",
              "    <tr>\n",
              "      <th>3</th>\n",
              "      <td>3309</td>\n",
              "      <td>Tempelhof - Schöneberg</td>\n",
              "      <td>Apartment</td>\n",
              "      <td>Private room</td>\n",
              "      <td>2</td>\n",
              "      <td>1.0</td>\n",
              "      <td>1.0</td>\n",
              "      <td>Pull-out Sofa</td>\n",
              "      <td>26.0</td>\n",
              "      <td>250.0</td>\n",
              "      <td>30.0</td>\n",
              "      <td>1</td>\n",
              "      <td>18.0</td>\n",
              "      <td>5</td>\n",
              "      <td>False</td>\n",
              "      <td>False</td>\n",
              "      <td>strict_14_with_grace_period</td>\n",
              "      <td>False</td>\n",
              "      <td>True</td>\n",
              "      <td>True</td>\n",
              "    </tr>\n",
              "    <tr>\n",
              "      <th>4</th>\n",
              "      <td>7071</td>\n",
              "      <td>Pankow</td>\n",
              "      <td>Apartment</td>\n",
              "      <td>Private room</td>\n",
              "      <td>2</td>\n",
              "      <td>1.0</td>\n",
              "      <td>1.0</td>\n",
              "      <td>Real Bed</td>\n",
              "      <td>42.0</td>\n",
              "      <td>0.0</td>\n",
              "      <td>0.0</td>\n",
              "      <td>1</td>\n",
              "      <td>24.0</td>\n",
              "      <td>2</td>\n",
              "      <td>False</td>\n",
              "      <td>False</td>\n",
              "      <td>moderate</td>\n",
              "      <td>False</td>\n",
              "      <td>True</td>\n",
              "      <td>False</td>\n",
              "    </tr>\n",
              "  </tbody>\n",
              "</table>\n",
              "</div>"
            ],
            "text/plain": [
              "     id neighbourhood_group_cleansed property_type  ...     tv  internet   pets\n",
              "0  2015                        Mitte    Guesthouse  ...   True      True  False\n",
              "1  2695                       Pankow     Apartment  ...  False      True  False\n",
              "2  3176                       Pankow     Apartment  ...  False      True  False\n",
              "3  3309       Tempelhof - Schöneberg     Apartment  ...  False      True   True\n",
              "4  7071                       Pankow     Apartment  ...  False      True  False\n",
              "\n",
              "[5 rows x 20 columns]"
            ]
          },
          "metadata": {
            "tags": []
          },
          "execution_count": 20
        }
      ]
    },
    {
      "cell_type": "code",
      "metadata": {
        "id": "Kw3B-frvhQuD",
        "colab_type": "code",
        "colab": {}
      },
      "source": [
        "#  Split into X and y\n",
        "\n",
        "X = df.drop('price', axis=1)\n",
        "y = df['price']"
      ],
      "execution_count": 0,
      "outputs": []
    },
    {
      "cell_type": "code",
      "metadata": {
        "id": "ZE41WQr8YHj9",
        "colab_type": "code",
        "colab": {}
      },
      "source": [
        "from sklearn.preprocessing import OrdinalEncoder\n",
        "encoder = OrdinalEncoder()\n",
        "X_encoded = encoder.fit_transform(X)"
      ],
      "execution_count": 0,
      "outputs": []
    },
    {
      "cell_type": "code",
      "metadata": {
        "id": "CwnexNU7ZNT3",
        "colab_type": "code",
        "outputId": "174af913-07e8-4233-90e4-674dc0c6d4f8",
        "colab": {
          "base_uri": "https://localhost:8080/",
          "height": 238
        }
      },
      "source": [
        "X_encoded"
      ],
      "execution_count": 0,
      "outputs": [
        {
          "output_type": "execute_result",
          "data": {
            "text/plain": [
              "array([[0.0000e+00, 4.0000e+00, 1.6000e+01, ..., 1.0000e+00, 1.0000e+00,\n",
              "        0.0000e+00],\n",
              "       [1.0000e+00, 6.0000e+00, 1.0000e+00, ..., 0.0000e+00, 1.0000e+00,\n",
              "        0.0000e+00],\n",
              "       [2.0000e+00, 6.0000e+00, 1.0000e+00, ..., 0.0000e+00, 1.0000e+00,\n",
              "        0.0000e+00],\n",
              "       ...,\n",
              "       [2.2499e+04, 6.0000e+00, 2.3000e+01, ..., 0.0000e+00, 1.0000e+00,\n",
              "        0.0000e+00],\n",
              "       [2.2500e+04, 4.0000e+00, 5.0000e+00, ..., 0.0000e+00, 1.0000e+00,\n",
              "        0.0000e+00],\n",
              "       [2.2501e+04, 5.0000e+00, 1.0000e+00, ..., 0.0000e+00, 1.0000e+00,\n",
              "        0.0000e+00]])"
            ]
          },
          "metadata": {
            "tags": []
          },
          "execution_count": 23
        }
      ]
    },
    {
      "cell_type": "code",
      "metadata": {
        "id": "cpN6Fb6-Y1sp",
        "colab_type": "code",
        "colab": {}
      },
      "source": [
        ""
      ],
      "execution_count": 0,
      "outputs": []
    },
    {
      "cell_type": "markdown",
      "metadata": {
        "id": "pb-xoTg_RKr2",
        "colab_type": "text"
      },
      "source": [
        "## Neural Network modeling"
      ]
    },
    {
      "cell_type": "code",
      "metadata": {
        "id": "Rm7F0rIUPaWT",
        "colab_type": "code",
        "colab": {}
      },
      "source": [
        ""
      ],
      "execution_count": 0,
      "outputs": []
    }
  ]
}